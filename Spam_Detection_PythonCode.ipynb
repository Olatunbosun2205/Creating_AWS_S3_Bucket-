{
 "cells": [
  {
   "cell_type": "code",
   "execution_count": 1,
   "metadata": {
    "id": "k1K2YjZ974fc"
   },
   "outputs": [],
   "source": [
    "import re\n",
    "import string\n",
    "import numpy as np\n",
    "import pandas as pd\n",
    "import seaborn as sns\n",
    "import plotly.express as px\n",
    "import matplotlib.pyplot as plt"
   ]
  },
  {
   "cell_type": "code",
   "execution_count": 2,
   "metadata": {
    "colab": {
     "base_uri": "https://localhost:8080/",
     "height": 206
    },
    "id": "nHl1rSM29Tft",
    "outputId": "02d182d8-4514-486b-df70-08a967bfbaba"
   },
   "outputs": [
    {
     "data": {
      "text/html": [
       "<div>\n",
       "<style scoped>\n",
       "    .dataframe tbody tr th:only-of-type {\n",
       "        vertical-align: middle;\n",
       "    }\n",
       "\n",
       "    .dataframe tbody tr th {\n",
       "        vertical-align: top;\n",
       "    }\n",
       "\n",
       "    .dataframe thead th {\n",
       "        text-align: right;\n",
       "    }\n",
       "</style>\n",
       "<table border=\"1\" class=\"dataframe\">\n",
       "  <thead>\n",
       "    <tr style=\"text-align: right;\">\n",
       "      <th></th>\n",
       "      <th>v1</th>\n",
       "      <th>v2</th>\n",
       "      <th>Unnamed: 2</th>\n",
       "      <th>Unnamed: 3</th>\n",
       "      <th>Unnamed: 4</th>\n",
       "    </tr>\n",
       "  </thead>\n",
       "  <tbody>\n",
       "    <tr>\n",
       "      <th>0</th>\n",
       "      <td>ham</td>\n",
       "      <td>Go until jurong point, crazy.. Available only ...</td>\n",
       "      <td>NaN</td>\n",
       "      <td>NaN</td>\n",
       "      <td>NaN</td>\n",
       "    </tr>\n",
       "    <tr>\n",
       "      <th>1</th>\n",
       "      <td>ham</td>\n",
       "      <td>Ok lar... Joking wif u oni...</td>\n",
       "      <td>NaN</td>\n",
       "      <td>NaN</td>\n",
       "      <td>NaN</td>\n",
       "    </tr>\n",
       "    <tr>\n",
       "      <th>2</th>\n",
       "      <td>spam</td>\n",
       "      <td>Free entry in 2 a wkly comp to win FA Cup fina...</td>\n",
       "      <td>NaN</td>\n",
       "      <td>NaN</td>\n",
       "      <td>NaN</td>\n",
       "    </tr>\n",
       "    <tr>\n",
       "      <th>3</th>\n",
       "      <td>ham</td>\n",
       "      <td>U dun say so early hor... U c already then say...</td>\n",
       "      <td>NaN</td>\n",
       "      <td>NaN</td>\n",
       "      <td>NaN</td>\n",
       "    </tr>\n",
       "    <tr>\n",
       "      <th>4</th>\n",
       "      <td>ham</td>\n",
       "      <td>Nah I don't think he goes to usf, he lives aro...</td>\n",
       "      <td>NaN</td>\n",
       "      <td>NaN</td>\n",
       "      <td>NaN</td>\n",
       "    </tr>\n",
       "  </tbody>\n",
       "</table>\n",
       "</div>"
      ],
      "text/plain": [
       "     v1                                                 v2 Unnamed: 2  \\\n",
       "0   ham  Go until jurong point, crazy.. Available only ...        NaN   \n",
       "1   ham                      Ok lar... Joking wif u oni...        NaN   \n",
       "2  spam  Free entry in 2 a wkly comp to win FA Cup fina...        NaN   \n",
       "3   ham  U dun say so early hor... U c already then say...        NaN   \n",
       "4   ham  Nah I don't think he goes to usf, he lives aro...        NaN   \n",
       "\n",
       "  Unnamed: 3 Unnamed: 4  \n",
       "0        NaN        NaN  \n",
       "1        NaN        NaN  \n",
       "2        NaN        NaN  \n",
       "3        NaN        NaN  \n",
       "4        NaN        NaN  "
      ]
     },
     "execution_count": 2,
     "metadata": {},
     "output_type": "execute_result"
    }
   ],
   "source": [
    "import pandas as pd\n",
    "\n",
    "# Load the dataset to take a look at the first few rows and understand its structure\n",
    "data = pd.read_csv('spam.csv', encoding='latin-1')\n",
    "data.head()"
   ]
  },
  {
   "cell_type": "code",
   "execution_count": 3,
   "metadata": {
    "colab": {
     "base_uri": "https://localhost:8080/"
    },
    "id": "5m_3yE8i9Nkg",
    "outputId": "52e9fce2-448e-4152-b197-626c4d16a221"
   },
   "outputs": [
    {
     "data": {
      "text/plain": [
       "(Label\n",
       " ham     0.865937\n",
       " spam    0.134063\n",
       " Name: proportion, dtype: float64,\n",
       " count    5572.000000\n",
       " mean       80.118808\n",
       " std        59.690841\n",
       " min         2.000000\n",
       " 25%        36.000000\n",
       " 50%        61.000000\n",
       " 75%       121.000000\n",
       " max       910.000000\n",
       " Name: Message Length, dtype: float64)"
      ]
     },
     "execution_count": 3,
     "metadata": {},
     "output_type": "execute_result"
    }
   ],
   "source": [
    "# Drop the irrelevant columns and perform descriptive statistics on the relevant ones\n",
    "data_cleaned = data[['v1', 'v2']].copy()\n",
    "\n",
    "# Renaming columns for clarity\n",
    "data_cleaned.columns = ['Label', 'Message']\n",
    "\n",
    "# Descriptive statistics for categorical data (Label)\n",
    "label_stats = data_cleaned['Label'].value_counts(normalize=True)\n",
    "\n",
    "# Descriptive statistics for text data (Message length)\n",
    "data_cleaned['Message Length'] = data_cleaned['Message'].apply(len)\n",
    "message_length_stats = data_cleaned['Message Length'].describe()\n",
    "\n",
    "label_stats, message_length_stats"
   ]
  },
  {
   "cell_type": "code",
   "execution_count": 4,
   "metadata": {
    "colab": {
     "base_uri": "https://localhost:8080/"
    },
    "id": "IliKAX5vBqdn",
    "outputId": "17cfc872-453d-458d-8852-444ea6aef416"
   },
   "outputs": [
    {
     "data": {
      "text/plain": [
       "(7500,\n",
       " Label\n",
       " ham     0.666667\n",
       " spam    0.333333\n",
       " Name: proportion, dtype: float64)"
      ]
     },
     "execution_count": 4,
     "metadata": {},
     "output_type": "execute_result"
    }
   ],
   "source": [
    "from sklearn.utils import resample\n",
    "\n",
    "# Desired ratio and total size\n",
    "desired_ham_ratio = 2 / 3  # 2 parts ham\n",
    "desired_spam_ratio = 1 / 3  # 1 part spam\n",
    "total_size = 7500\n",
    "\n",
    "# Calculating the number of samples for each class based on the desired ratio\n",
    "n_ham = int(total_size * desired_ham_ratio)\n",
    "n_spam = total_size - n_ham  # Ensuring the total is exactly 7500\n",
    "\n",
    "# Separate the dataset into ham and spam\n",
    "ham = data_cleaned[data_cleaned['Label'] == 'ham']\n",
    "spam = data_cleaned[data_cleaned['Label'] == 'spam']\n",
    "\n",
    "# Resample each dataset to meet the desired number of samples\n",
    "resampled_ham = resample(ham, replace=True, n_samples=n_ham, random_state=42)\n",
    "resampled_spam = resample(spam, replace=True, n_samples=n_spam, random_state=42)\n",
    "\n",
    "# Combine back into a single dataset\n",
    "resampled_data = pd.concat([resampled_ham, resampled_spam])\n",
    "\n",
    "# Checking the final size and ratio\n",
    "final_size_check = resampled_data.shape[0]\n",
    "final_ratio_check = resampled_data['Label'].value_counts(normalize=True)\n",
    "\n",
    "final_size_check, final_ratio_check"
   ]
  },
  {
   "cell_type": "code",
   "execution_count": 5,
   "metadata": {
    "colab": {
     "base_uri": "https://localhost:8080/",
     "height": 1000
    },
    "id": "WLxpdJFZBzmT",
    "outputId": "6d02c07b-8be7-411a-d2e1-5135ee141ab7"
   },
   "outputs": [
    {
     "data": {
      "image/png": "[encoded data removed]",
      "text/plain": [
       "<Figure size 1400x700 with 2 Axes>"
      ]
     },
     "metadata": {},
     "output_type": "display_data"
    },
    {
     "data": {
      "text/plain": [
       "([('i', 3016),\n",
       "  ('you', 2017),\n",
       "  ('to', 1564),\n",
       "  ('the', 1195),\n",
       "  ('a', 1113),\n",
       "  ('u', 1012),\n",
       "  ('and', 896),\n",
       "  ('me', 869),\n",
       "  ('in', 846),\n",
       "  ('my', 783)],\n",
       " [('to', 2369),\n",
       "  ('a', 1293),\n",
       "  ('call', 1195),\n",
       "  ('you', 977),\n",
       "  ('å', 973),\n",
       "  ('your', 897),\n",
       "  ('free', 725),\n",
       "  ('now', 717),\n",
       "  ('the', 680),\n",
       "  ('for', 677)])"
      ]
     },
     "execution_count": 5,
     "metadata": {},
     "output_type": "execute_result"
    }
   ],
   "source": [
    "# Additional Exploratory Data Analysis (EDA) to uncover more insights\n",
    "\n",
    "# 1. Top 10 most common words in spam and ham messages\n",
    "from collections import Counter\n",
    "import re\n",
    "\n",
    "# Function to clean and split text into words\n",
    "def clean_and_split(text):\n",
    "    words = re.findall(r'\\w+', text.lower())\n",
    "    return words\n",
    "\n",
    "# Combine all messages into a single string per category\n",
    "ham_words = clean_and_split(\" \".join(resampled_data[resampled_data['Label'] == 'ham']['Message']))\n",
    "spam_words = clean_and_split(\" \".join(resampled_data[resampled_data['Label'] == 'spam']['Message']))\n",
    "\n",
    "# Count the words and get the most common ones\n",
    "ham_word_counts = Counter(ham_words)\n",
    "spam_word_counts = Counter(spam_words)\n",
    "\n",
    "most_common_ham_words = ham_word_counts.most_common(10)\n",
    "most_common_spam_words = spam_word_counts.most_common(10)\n",
    "\n",
    "# 2. Word counts in ham vs spam messages\n",
    "plt.figure(figsize=(14, 7))\n",
    "plt.subplot(1, 2, 1)\n",
    "sns.barplot(x=[word[1] for word in most_common_ham_words], y=[word[0] for word in most_common_ham_words])\n",
    "plt.title('Top 10 Most Common Words in Ham Messages')\n",
    "plt.xlabel('Frequency')\n",
    "plt.ylabel('Words')\n",
    "\n",
    "plt.subplot(1, 2, 2)\n",
    "sns.barplot(x=[word[1] for word in most_common_spam_words], y=[word[0] for word in most_common_spam_words])\n",
    "plt.title('Top 10 Most Common Words in Spam Messages')\n",
    "plt.xlabel('Frequency')\n",
    "plt.ylabel('Words')\n",
    "plt.tight_layout()\n",
    "plt.show()\n",
    "\n",
    "most_common_ham_words, most_common_spam_words"
   ]
  },
  {
   "cell_type": "code",
   "execution_count": 7,
   "metadata": {},
   "outputs": [
    {
     "name": "stdout",
     "output_type": "stream",
     "text": [
      "Collecting textblobNote: you may need to restart the kernel to use updated packages.\n",
      "\n",
      "  Obtaining dependency information for textblob from https://files.pythonhosted.org/packages/02/07/5fd2945356dd839974d3a25de8a142dc37293c21315729a41e775b5f3569/textblob-0.18.0.post0-py3-none-any.whl.metadata\n",
      "  Downloading textblob-0.18.0.post0-py3-none-any.whl.metadata (4.5 kB)\n",
      "Requirement already satisfied: nltk>=3.8 in c:\\users\\dell\\anaconda3\\lib\\site-packages (from textblob) (3.8.1)\n",
      "Requirement already satisfied: click in c:\\users\\dell\\anaconda3\\lib\\site-packages (from nltk>=3.8->textblob) (8.0.4)\n",
      "Requirement already satisfied: joblib in c:\\users\\dell\\anaconda3\\lib\\site-packages (from nltk>=3.8->textblob) (1.2.0)\n",
      "Requirement already satisfied: regex>=2021.8.3 in c:\\users\\dell\\anaconda3\\lib\\site-packages (from nltk>=3.8->textblob) (2022.7.9)\n",
      "Requirement already satisfied: tqdm in c:\\users\\dell\\anaconda3\\lib\\site-packages (from nltk>=3.8->textblob) (4.65.0)\n",
      "Requirement already satisfied: colorama in c:\\users\\dell\\anaconda3\\lib\\site-packages (from click->nltk>=3.8->textblob) (0.4.6)\n",
      "Downloading textblob-0.18.0.post0-py3-none-any.whl (626 kB)\n",
      "   ---------------------------------------- 0.0/626.3 kB ? eta -:--:--\n",
      "   ---------------------------------------- 0.0/626.3 kB ? eta -:--:--\n",
      "    --------------------------------------- 10.2/626.3 kB ? eta -:--:--\n",
      "    --------------------------------------- 10.2/626.3 kB ? eta -:--:--\n",
      "   - ------------------------------------- 30.7/626.3 kB 187.9 kB/s eta 0:00:04\n",
      "   --- ----------------------------------- 61.4/626.3 kB 297.7 kB/s eta 0:00:02\n",
      "   ------- ------------------------------ 122.9/626.3 kB 516.7 kB/s eta 0:00:01\n",
      "   ---------------------- ----------------- 358.4/626.3 kB 1.3 MB/s eta 0:00:01\n",
      "   ---------------------------------------  624.6/626.3 kB 2.1 MB/s eta 0:00:01\n",
      "   ---------------------------------------  624.6/626.3 kB 2.1 MB/s eta 0:00:01\n",
      "   ---------------------------------------  624.6/626.3 kB 2.1 MB/s eta 0:00:01\n",
      "   ---------------------------------------  624.6/626.3 kB 2.1 MB/s eta 0:00:01\n",
      "   ---------------------------------------  624.6/626.3 kB 2.1 MB/s eta 0:00:01\n",
      "   ---------------------------------------- 626.3/626.3 kB 1.2 MB/s eta 0:00:00\n",
      "Installing collected packages: textblob\n",
      "Successfully installed textblob-0.18.0.post0\n"
     ]
    }
   ],
   "source": [
    "pip install textblob"
   ]
  },
  {
   "cell_type": "code",
   "execution_count": 8,
   "metadata": {
    "colab": {
     "base_uri": "https://localhost:8080/"
    },
    "id": "xBeP3thlB6dM",
    "outputId": "9f5bfaab-ed7a-40da-d197-e18aa8070bcb"
   },
   "outputs": [
    {
     "data": {
      "text/plain": [
       "(count    7500.000000\n",
       " mean        0.147580\n",
       " std         0.285902\n",
       " min        -1.000000\n",
       " 25%         0.000000\n",
       " 50%         0.000000\n",
       " 75%         0.342675\n",
       " max         1.000000\n",
       " Name: Sentiment Polarity, dtype: float64,\n",
       "         count      mean       std  min  25%   50%  75%  max\n",
       " Label                                                      \n",
       " ham    5000.0  0.125031  0.290763 -1.0  0.0  0.00  0.3  1.0\n",
       " spam   2500.0  0.192679  0.270394 -0.8  0.0  0.15  0.4  1.0)"
      ]
     },
     "execution_count": 8,
     "metadata": {},
     "output_type": "execute_result"
    }
   ],
   "source": [
    "from textblob import TextBlob\n",
    "\n",
    "# Function to calculate sentiment polarity\n",
    "def calculate_sentiment(text):\n",
    "    return TextBlob(text).sentiment.polarity\n",
    "\n",
    "# Apply the sentiment analysis function to the messages\n",
    "resampled_data['Sentiment Polarity'] = resampled_data['Message'].apply(calculate_sentiment)\n",
    "\n",
    "# Descriptive statistics of sentiment polarity for the entire dataset\n",
    "sentiment_overall_stats = resampled_data['Sentiment Polarity'].describe()\n",
    "\n",
    "# Descriptive statistics of sentiment polarity by label\n",
    "sentiment_by_label_stats = resampled_data.groupby('Label')['Sentiment Polarity'].describe()\n",
    "\n",
    "sentiment_overall_stats, sentiment_by_label_stats"
   ]
  },
  {
   "cell_type": "code",
   "execution_count": 9,
   "metadata": {
    "colab": {
     "base_uri": "https://localhost:8080/"
    },
    "id": "r67thoa5B_MI",
    "outputId": "3fbf7c56-a3c6-4271-8b73-ecfac717b8a6"
   },
   "outputs": [
    {
     "data": {
      "text/plain": [
       "{'Naive Bayes': {'Accuracy': 0.9806666666666667,\n",
       "  'Precision': 0.9808510638297873,\n",
       "  'Recall': 0.9584199584199584,\n",
       "  'F1 Score': 0.9695057833859095},\n",
       " 'Logistic Regression': {'Accuracy': 0.9793333333333333,\n",
       "  'Precision': 0.993421052631579,\n",
       "  'Recall': 0.9417879417879418,\n",
       "  'F1 Score': 0.9669156883671292},\n",
       " 'Random Forest': {'Accuracy': 0.998,\n",
       "  'Precision': 1.0,\n",
       "  'Recall': 0.9937629937629938,\n",
       "  'F1 Score': 0.9968717413972888}}"
      ]
     },
     "execution_count": 9,
     "metadata": {},
     "output_type": "execute_result"
    }
   ],
   "source": [
    "from sklearn.model_selection import train_test_split\n",
    "from sklearn.feature_extraction.text import TfidfVectorizer\n",
    "from sklearn.naive_bayes import MultinomialNB\n",
    "from sklearn.linear_model import LogisticRegression\n",
    "from sklearn.ensemble import RandomForestClassifier\n",
    "from sklearn.metrics import accuracy_score, precision_score, recall_score, f1_score\n",
    "\n",
    "# Splitting the dataset into training and testing sets\n",
    "X = resampled_data['Message']\n",
    "y = resampled_data['Label'].map({'ham': 0, 'spam': 1})  # Converting labels to numeric\n",
    "X_train, X_test, y_train, y_test = train_test_split(X, y, test_size=0.2, random_state=42)\n",
    "\n",
    "# Vectorizing the text data\n",
    "vectorizer = TfidfVectorizer(stop_words='english')\n",
    "X_train_transformed = vectorizer.fit_transform(X_train)\n",
    "X_test_transformed = vectorizer.transform(X_test)\n",
    "\n",
    "# Initializing classifiers\n",
    "nb_classifier = MultinomialNB()\n",
    "lr_classifier = LogisticRegression(max_iter=1000)\n",
    "rf_classifier = RandomForestClassifier(n_estimators=100)\n",
    "\n",
    "# Training and evaluating models\n",
    "models = {\n",
    "    'Naive Bayes': nb_classifier,\n",
    "    'Logistic Regression': lr_classifier,\n",
    "    'Random Forest': rf_classifier\n",
    "}\n",
    "\n",
    "results = {}\n",
    "\n",
    "for model_name, model in models.items():\n",
    "    model.fit(X_train_transformed, y_train)\n",
    "    y_pred = model.predict(X_test_transformed)\n",
    "\n",
    "    accuracy = accuracy_score(y_test, y_pred)\n",
    "    precision = precision_score(y_test, y_pred)\n",
    "    recall = recall_score(y_test, y_pred)\n",
    "    f1 = f1_score(y_test, y_pred)\n",
    "\n",
    "    results[model_name] = {\n",
    "        'Accuracy': accuracy,\n",
    "        'Precision': precision,\n",
    "        'Recall': recall,\n",
    "        'F1 Score': f1\n",
    "    }\n",
    "\n",
    "results"
   ]
  },
  {
   "cell_type": "code",
   "execution_count": null,
   "metadata": {},
   "outputs": [],
   "source": []
  }
 ],
 "metadata": {
  "colab": {
   "provenance": []
  },
  "kernelspec": {
   "display_name": "Python 3 (ipykernel)",
   "language": "python",
   "name": "python3"
  },
  "language_info": {
   "codemirror_mode": {
    "name": "ipython",
    "version": 3
   },
   "file_extension": ".py",
   "mimetype": "text/x-python",
   "name": "python",
   "nbconvert_exporter": "python",
   "pygments_lexer": "ipython3",
   "version": "3.11.5"
  }
 },
 "nbformat": 4,
 "nbformat_minor": 1
}
